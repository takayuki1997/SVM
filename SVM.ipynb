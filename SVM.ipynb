{
  "nbformat": 4,
  "nbformat_minor": 0,
  "metadata": {
    "colab": {
      "provenance": [],
      "mount_file_id": "18dj9qRwrx33up8tB6clTRmDXEh__adEP",
      "authorship_tag": "ABX9TyO5MtP3lvyFvA06dexqyWYv",
      "include_colab_link": true
    },
    "kernelspec": {
      "name": "python3",
      "display_name": "Python 3"
    },
    "language_info": {
      "name": "python"
    }
  },
  "cells": [
    {
      "cell_type": "markdown",
      "metadata": {
        "id": "view-in-github",
        "colab_type": "text"
      },
      "source": [
        "<a href=\"https://colab.research.google.com/github/takayuki1997/SVM/blob/main/SVM.ipynb\" target=\"_parent\"><img src=\"https://colab.research.google.com/assets/colab-badge.svg\" alt=\"Open In Colab\"/></a>"
      ]
    },
    {
      "cell_type": "markdown",
      "source": [
        "# SVM多項式カーネルを用いた学術テキストの分野分類\n",
        "* 科研費データベースから概要テキストを入手\n",
        "* テキストをベクトル化（TF-IDFでもできるがヒューリスティック。PMI (Pointwise Mutual Information)やNPMIや（SIF (Smooth Inverse Frequency)）を調査）\n",
        "* SVMの実装にはscikit-learnライブラリを利用\n",
        "\n"
      ],
      "metadata": {
        "id": "LQ25oQek3XpL"
      }
    },
    {
      "cell_type": "markdown",
      "source": [
        "# MeCabのインストール"
      ],
      "metadata": {
        "id": "sJUxEXsbsCaO"
      }
    },
    {
      "cell_type": "code",
      "source": [
        "# 30秒以下\n",
        "!apt install mecab libmecab-dev mecab-ipadic-utf8\n",
        "!pip install mecab-python3\n",
        "!mv /etc/mecabrc /usr/local/etc/"
      ],
      "metadata": {
        "id": "399OGCjb6bcf"
      },
      "execution_count": null,
      "outputs": []
    },
    {
      "cell_type": "markdown",
      "source": [
        "# 学習データの読み込み　分かち書き"
      ],
      "metadata": {
        "id": "cxclgFdaQIg2"
      }
    },
    {
      "cell_type": "code",
      "source": [
        "import pandas as pd\n",
        "import MeCab\n",
        "\n",
        "# MeCabの設定\n",
        "tagger = MeCab.Tagger('-Owakati')\n",
        "\n",
        "# CSVファイルの読み込み\n",
        "input_csv = '/content/drive/MyDrive/NaiveBayes/kakenhi/kaken_bc.csv'\n",
        "print(f'読み込み中: {input_csv}...')\n",
        "df = pd.read_csv(input_csv, encoding='utf-8', usecols=['Category', 'Summary'])\n",
        "\n",
        "print(\"元のデータの最初の3行:\")\n",
        "print(df.head(3))\n",
        "\n",
        "# テキストの前処理関数\n",
        "def preprocess_text(text):\n",
        "    return ' '.join(tagger.parse(str(text)).split())\n",
        "\n",
        "# データの前処理\n",
        "df['Processed_Summary'] = df['Summary'].apply(preprocess_text)\n",
        "\n",
        "# 不要なカラムの削除\n",
        "processed_df = df.drop('Summary', axis=1)\n",
        "\n",
        "# 結果の確認\n",
        "print(\"\\n処理後のデータの最初の3行:\")\n",
        "print(processed_df.head(3))\n",
        "print(f\"\\n処理されたデータ数: {len(processed_df)}\")"
      ],
      "metadata": {
        "colab": {
          "base_uri": "https://localhost:8080/"
        },
        "id": "3C6VTZ3Wa2e-",
        "outputId": "3658e450-23dd-4beb-b776-07fcc54e83a0"
      },
      "execution_count": 7,
      "outputs": [
        {
          "output_type": "stream",
          "name": "stdout",
          "text": [
            "読み込み中: /content/drive/MyDrive/NaiveBayes/kakenhi/kaken_bc.csv...\n",
            "元のデータの最初の3行:\n",
            "  Category                                            Summary\n",
            "0        A  自閉症の医学的研究は、近年、次々と新しい事実・データを明らかにしており、それらの理論化が必要...\n",
            "1        A  本研究の申請者たちは、ジェンダー、セクシュアリティ、エスニシティ、貧困、障害、疾病、加齢、災...\n",
            "2        A  ドイツにおける匿名による子どもの委託の諸形態に関する議論を取りまとめ、ドイツの取り組みを範例...\n",
            "\n",
            "処理後のデータの最初の3行:\n",
            "  Category                                  Processed_Summary\n",
            "0        A  自閉症 の 医学 的 研究 は 、 近年 、 次々 と 新しい 事実 ・ データ を 明らか...\n",
            "1        A  本 研究 の 申請 者 たち は 、 ジェンダー 、 セクシュアリティ 、 エスニシティ 、...\n",
            "2        A  ドイツ における 匿名 による 子ども の 委託 の 諸 形態 に関する 議論 を 取りまと...\n",
            "\n",
            "処理されたデータ数: 36777\n"
          ]
        }
      ]
    },
    {
      "cell_type": "markdown",
      "source": [
        "# 特徴量ベクトルの作成"
      ],
      "metadata": {
        "id": "AWTMpcGJp3Fw"
      }
    },
    {
      "cell_type": "code",
      "source": [
        "import pandas as pd\n",
        "import numpy as np\n",
        "from collections import defaultdict\n",
        "from scipy.sparse import csr_matrix, vstack\n",
        "from sklearn.preprocessing import LabelEncoder\n",
        "import joblib\n",
        "\n",
        "# 全体のドキュメント数\n",
        "total_docs = len(processed_df)\n",
        "\n",
        "def prepare_frequency_info(df):\n",
        "    word_freq = defaultdict(int)\n",
        "    category_freq = defaultdict(int)\n",
        "    joint_freq = defaultdict(int)\n",
        "\n",
        "    for _, row in df.iterrows():\n",
        "        category = row['Category']\n",
        "        summary = row['Processed_Summary']\n",
        "        words = summary.split()\n",
        "        unique_words = set(words)  # ユニークな単語のみ考慮\n",
        "\n",
        "        category_freq[category] += 1\n",
        "\n",
        "        for word in unique_words:\n",
        "            word_freq[word] += 1\n",
        "            joint_freq[(word, category)] += 1\n",
        "\n",
        "    return word_freq, category_freq, joint_freq\n",
        "\n",
        "word_freq, category_freq, joint_freq = prepare_frequency_info(processed_df)\n",
        "\n",
        "def pmi(word, category, total_docs):\n",
        "    p_word = word_freq[word] / total_docs\n",
        "    p_category = category_freq[category] / total_docs\n",
        "    p_joint = joint_freq[(word, category)] / total_docs\n",
        "    if p_joint == 0:\n",
        "        return 0  # ゼロ除算を防ぐ\n",
        "    return np.log(p_joint / (p_word * p_category))\n",
        "\n",
        "def extract_features(word_freq, category_freq, pmi_threshold=0.5):\n",
        "    selected_features = []\n",
        "    for word in word_freq:\n",
        "        for category in category_freq:\n",
        "            score = pmi(word, category, total_docs)\n",
        "            if score > pmi_threshold:\n",
        "                selected_features.append((word, category, score))\n",
        "\n",
        "    unique_words = sorted(set(word for word, _, _ in selected_features))\n",
        "    feature_dict = {word: i for i, word in enumerate(unique_words)}\n",
        "    return feature_dict\n",
        "\n",
        "feature_dict = extract_features(word_freq, category_freq)\n",
        "\n",
        "print(\"feature_dict情報:\")\n",
        "print(f\"長さ: {len(feature_dict)}\")\n",
        "print(\"最初の10個の要素:\")\n",
        "for word, index in list(feature_dict.items())[:10]:\n",
        "    print(f\"{word}: {index}\")\n",
        "\n",
        "def create_sparse_feature_vector(summary):\n",
        "    words = summary.split()\n",
        "    row = []\n",
        "    col = []\n",
        "    data = []\n",
        "    for word in words:\n",
        "        if word in feature_dict:\n",
        "            row.append(0)\n",
        "            col.append(feature_dict[word])\n",
        "            data.append(1)\n",
        "    return csr_matrix((data, (row, col)), shape=(1, len(feature_dict)))\n",
        "\n",
        "def create_sparse_matrix(df, batch_size=1000):\n",
        "    matrices = []\n",
        "    for i in range(0, len(df), batch_size):\n",
        "        batch = df.iloc[i:i+batch_size]\n",
        "        batch_matrices = [create_sparse_feature_vector(summary) for summary in batch['Processed_Summary']]\n",
        "        matrices.append(vstack(batch_matrices))\n",
        "    return vstack(matrices)\n",
        "\n",
        "X = create_sparse_matrix(processed_df)\n",
        "y = processed_df['Category']\n",
        "\n",
        "# カテゴリーのエンコーディング\n",
        "le = LabelEncoder()\n",
        "y = le.fit_transform(y)\n",
        "\n",
        "# 特徴量とラベルの保存\n",
        "joblib.dump(X, 'feature_matrix.joblib')\n",
        "joblib.dump(y, 'labels.joblib')\n",
        "joblib.dump(feature_dict, 'feature_dict.joblib')\n",
        "joblib.dump(le, 'label_encoder.joblib')"
      ],
      "metadata": {
        "colab": {
          "base_uri": "https://localhost:8080/"
        },
        "id": "_TGqYFgBpfmJ",
        "outputId": "fed2b5b7-3cdb-4ef7-d276-324a27d49f12"
      },
      "execution_count": 10,
      "outputs": [
        {
          "output_type": "stream",
          "name": "stdout",
          "text": [
            "feature_dict情報:\n",
            "長さ: 58869\n",
            "最初の10個の要素:\n",
            "\": 0\n",
            "\"\": 1\n",
            "\"(: 2\n",
            "\"-\": 3\n",
            "\"」: 4\n",
            "\"（: 5\n",
            "#: 6\n",
            "$/: 7\n",
            "%: 8\n",
            "%(: 9\n"
          ]
        },
        {
          "output_type": "execute_result",
          "data": {
            "text/plain": [
              "['label_encoder.joblib']"
            ]
          },
          "metadata": {},
          "execution_count": 10
        }
      ]
    },
    {
      "cell_type": "markdown",
      "source": [
        "# モデルの作成"
      ],
      "metadata": {
        "id": "3DsfG0_UpzI3"
      }
    },
    {
      "cell_type": "code",
      "source": [
        "from sklearn.model_selection import train_test_split\n",
        "from sklearn.svm import SVC\n",
        "from sklearn.metrics import classification_report\n",
        "import joblib\n",
        "\n",
        "# 保存された特徴量とラベルの読み込み\n",
        "X = joblib.load('feature_matrix.joblib')\n",
        "y = joblib.load('labels.joblib')\n",
        "le = joblib.load('label_encoder.joblib')\n",
        "\n",
        "# データの分割\n",
        "X_train, X_test, y_train, y_test = train_test_split(X, y, test_size=0.2, stratify=y, random_state=42)\n",
        "\n",
        "print(f\"訓練データ数: {X_train.shape[0]}\")\n",
        "print(f\"テストデータ数: {X_test.shape[0]}\")\n",
        "\n",
        "# SVMモデルの作成と訓練\n",
        "svm_model = SVC(kernel='linear', C=1.0, random_state=42)\n",
        "svm_model.fit(X_train, y_train)\n",
        "\n",
        "# テストデータでの予測\n",
        "y_pred = svm_model.predict(X_test)\n",
        "\n",
        "# 結果の評価\n",
        "print(classification_report(y_test, y_pred, target_names=le.classes_))\n",
        "\n",
        "# モデルの保存\n",
        "joblib.dump(svm_model, 'svm_model.joblib')"
      ],
      "metadata": {
        "colab": {
          "base_uri": "https://localhost:8080/"
        },
        "id": "70WF0uNVpfYv",
        "outputId": "0288ff1f-0c9e-4d16-b015-e1c5bdb16abd"
      },
      "execution_count": 11,
      "outputs": [
        {
          "output_type": "stream",
          "name": "stdout",
          "text": [
            "訓練データ数: 29421\n",
            "テストデータ数: 7356\n",
            "              precision    recall  f1-score   support\n",
            "\n",
            "           A       0.82      0.88      0.85      1859\n",
            "           B       0.78      0.81      0.80       405\n",
            "           C       0.65      0.64      0.64       597\n",
            "           D       0.29      0.28      0.29       389\n",
            "           E       0.55      0.58      0.56       246\n",
            "           F       0.55      0.57      0.56       453\n",
            "           G       0.52      0.56      0.54       285\n",
            "           H       0.32      0.31      0.31       354\n",
            "           I       0.79      0.76      0.77      2313\n",
            "           J       0.55      0.48      0.51       331\n",
            "           K       0.46      0.35      0.40       124\n",
            "\n",
            "    accuracy                           0.69      7356\n",
            "   macro avg       0.57      0.56      0.57      7356\n",
            "weighted avg       0.69      0.69      0.69      7356\n",
            "\n"
          ]
        },
        {
          "output_type": "execute_result",
          "data": {
            "text/plain": [
              "['svm_model.joblib']"
            ]
          },
          "metadata": {},
          "execution_count": 11
        }
      ]
    },
    {
      "cell_type": "markdown",
      "source": [
        "# 新規のテキストでテスト"
      ],
      "metadata": {
        "id": "fz2XFVKCi1Sf"
      }
    },
    {
      "cell_type": "code",
      "source": [
        "import MeCab\n",
        "import joblib\n",
        "import matplotlib.pyplot as plt\n",
        "import seaborn as sns\n",
        "from scipy.sparse import csr_matrix\n",
        "\n",
        "# モデルと関連するオブジェクトの読み込み\n",
        "svm_model = joblib.load('svm_model.joblib')\n",
        "feature_dict = joblib.load('feature_dict.joblib')\n",
        "le = joblib.load('label_encoder.joblib')\n",
        "\n",
        "# MeCabの設定\n",
        "tagger = MeCab.Tagger('-Owakati')\n",
        "\n",
        "# テストケース\n",
        "test_summary = \"近年、大学には教育研究に加え、複雑化する社会課題の解決への貢献が期待されている。しかし、課題解決のための研究チームビルディングには問題点がある。既存のシーズから出発するフォアキャスティング法では必ずしも最適解が得られるとは限らない。また、社会課題起点のバックキャスティング法では人的リソースの制約から探索範囲が限られてしまう。そこで本研究では、機械学習技術を用いて社会課題と研究シーズを定量的に評価し、最適な研究チームメンバーを効率的に選び出す手法の開発を目的とする。具体的には、社会課題解決に必要な学術的要素を、複数の研究者のシーズの定量的な組み合わせで表す手法を確立する。この手法により、これまで属人的な資質に依存していたチームビルディングに、より客観的で再現性のある方法が提案可能となる。さらに、本研究は学術界だけでなく産業界や行政における人材マッチングにも応用でき、幅広い分野でのイノベーション創出に貢献することが期待される。\"\n",
        "\n",
        "# テキストの前処理\n",
        "words = tagger.parse(test_summary).split()\n",
        "words_set = \" \".join(words)\n",
        "\n",
        "# 特徴量ベクトルの作成\n",
        "def create_sparse_feature_vector(summary):\n",
        "    words = summary.split()\n",
        "    row = []\n",
        "    col = []\n",
        "    data = []\n",
        "    for word in words:\n",
        "        if word in feature_dict:\n",
        "            row.append(0)\n",
        "            col.append(feature_dict[word])\n",
        "            data.append(1)\n",
        "    return csr_matrix((data, (row, col)), shape=(1, len(feature_dict)))\n",
        "\n",
        "test_vector = create_sparse_feature_vector(words_set)\n",
        "\n",
        "# モデルによる予測\n",
        "predicted_category_index = svm_model.predict(test_vector)[0]\n",
        "predicted_category = le.inverse_transform([predicted_category_index])[0]\n",
        "\n",
        "print(f\"\\nテストベクトルの形状: {test_vector.shape}\")\n",
        "print(f\"テストベクトルの非ゼロ要素数: {test_vector.nnz}\")\n",
        "print(f\"予測されたカテゴリ: {predicted_category}\")\n",
        "\n",
        "# 確信度スコアの取得と表示\n",
        "confidence_scores = svm_model.decision_function(test_vector)\n",
        "print(\"\\n各カテゴリの確信度スコア:\")\n",
        "for category, score in zip(le.classes_, confidence_scores[0]):\n",
        "    print(f\"{category}: {score:.4f}\")\n",
        "\n",
        "# グラフ表示用の設定\n",
        "plt.figure(figsize=(10, 8))\n",
        "sns.set(style=\"whitegrid\")\n",
        "\n",
        "# カテゴリとスコアのペアを作成（AからKまでの順）\n",
        "categories = ['A', 'B', 'C', 'D', 'E', 'F', 'G', 'H', 'I', 'J', 'K']\n",
        "scores = confidence_scores[0]\n",
        "\n",
        "# 棒グラフの作成（縦向き）\n",
        "sns.barplot(x=categories, y=scores)\n",
        "\n",
        "plt.title('Confidence Scores for Categories A to K', fontsize=16)\n",
        "plt.xlabel('Category', fontsize=12)\n",
        "plt.ylabel('Confidence Score', fontsize=12)\n",
        "\n",
        "# スコアの値を棒グラフに追加\n",
        "for i, v in enumerate(scores):\n",
        "    plt.text(i, v, f' {v:.2f}', ha='center', va='bottom' if v >= 0 else 'top', fontsize=10)\n",
        "\n",
        "plt.tight_layout()\n",
        "plt.show()\n"
      ],
      "metadata": {
        "colab": {
          "base_uri": "https://localhost:8080/",
          "height": 1000
        },
        "id": "LUmlczPHTHsQ",
        "outputId": "66ba0afb-ef26-4508-bc0b-272dcb382d2b"
      },
      "execution_count": 12,
      "outputs": [
        {
          "output_type": "stream",
          "name": "stdout",
          "text": [
            "\n",
            "テストベクトルの形状: (1, 58869)\n",
            "テストベクトルの非ゼロ要素数: 54\n",
            "予測されたカテゴリ: A\n",
            "\n",
            "各カテゴリの確信度スコア:\n",
            "A: 10.3029\n",
            "B: 1.7019\n",
            "C: 8.3040\n",
            "D: 7.1618\n",
            "E: 2.7222\n",
            "F: 2.7399\n",
            "G: -0.3019\n",
            "H: 6.2085\n",
            "I: 4.7380\n",
            "J: 9.3051\n",
            "K: 1.7417\n"
          ]
        },
        {
          "output_type": "display_data",
          "data": {
            "text/plain": [
              "<Figure size 1000x800 with 1 Axes>"
            ],
            "image/png": "[encoded data removed]"
          },
          "metadata": {}
        }
      ]
    }
  ]
}